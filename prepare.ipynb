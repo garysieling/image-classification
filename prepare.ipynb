{
 "cells": [
  {
   "cell_type": "code",
   "execution_count": 25,
   "metadata": {},
   "outputs": [
    {
     "name": "stdout",
     "output_type": "stream",
     "text": [
      "Realism 10733\n",
      "Rococo 2089\n"
     ]
    }
   ],
   "source": [
    "import os\n",
    "\n",
    "item_map = {\n",
    "    'Realism': [],\n",
    "    'Rococo': []\n",
    "}\n",
    "\n",
    "item_to_idx = {\n",
    "    'Realism': 0,\n",
    "    'Rococo': 0\n",
    "}\n",
    "\n",
    "data_dir = '/projects/data/wikiart/'\n",
    "counter = 0\n",
    "for category in item_map.keys():\n",
    "    fnames = os.listdir(data_dir + category)\n",
    "    \n",
    "    for fn in fnames:\n",
    "        item_map[category].append({\n",
    "            'idx': counter,\n",
    "            'label': item_to_idx[category],\n",
    "            'filename': category + '/' + fn,\n",
    "        })\n",
    "        counter += 1\n",
    "    \n",
    "for k in item_map:\n",
    "    print(k, len(item_map[k]))"
   ]
  },
  {
   "cell_type": "code",
   "execution_count": 26,
   "metadata": {},
   "outputs": [],
   "source": [
    "import random\n",
    "for category in item_map.keys():\n",
    "    random.shuffle(item_map[category])"
   ]
  },
  {
   "cell_type": "code",
   "execution_count": 27,
   "metadata": {},
   "outputs": [],
   "source": [
    "def write_lst(image_arr, base_dir, file_path):\n",
    "    with open(file_path, 'w') as f:\n",
    "        count = 0\n",
    "        for img in image_arr:\n",
    "            label = img['label']\n",
    "            img_path = os.path.join(base_dir, img['filename'])\n",
    "            new_line = '\\t'.join([str(count), str(label), str(img_path)])\n",
    "            new_line += '\\n'\n",
    "            f.write(new_line)\n",
    "            count += 1"
   ]
  },
  {
   "cell_type": "code",
   "execution_count": 28,
   "metadata": {},
   "outputs": [],
   "source": [
    "import sys\n",
    "min_data_len = sys.maxsize\n",
    "\n",
    "for category in item_map.keys():\n",
    "    min(min_data_len, len(item_map[category]))\n",
    "\n",
    "sample = (0, 8)\n",
    "train = (0, int(min_data_len * 0.7))\n",
    "validation = (int(min_data_len * 0.7), int(min_data_len * 0.85))\n",
    "test = (int(min_data_len * 0.85), int(min_data_len * 1))\n",
    "\n",
    "def split_dataset(from_idx, to_idx):\n",
    "    result = []\n",
    "    for category in item_map.keys():\n",
    "        result = result + item_map[category][from_idx: to_idx]\n",
    "    \n",
    "    return result"
   ]
  },
  {
   "cell_type": "code",
   "execution_count": 29,
   "metadata": {},
   "outputs": [],
   "source": [
    "# sample set is for developing model and debugging\n",
    "# because debugging with large dataset takes a long time\n",
    "sample_set = split_dataset(sample[0], sample[1])\n",
    "write_lst(sample_set, '/projects/data/wikiart/', '/projects/data/wikiart/sample.lst')\n",
    "\n",
    "train_set = split_dataset(train[0], train[1])\n",
    "write_lst(train_set, '/projects/data/wikiart/', '/projects/data/wikiart/train.lst')\n",
    "\n",
    "validation_set = split_dataset(validation[0], validation[1])\n",
    "write_lst(validation_set, '/projects/data/wikiart/', '/projects/data/wikiart/validation.lst')\n",
    "\n",
    "test_set = split_dataset(test[0], test[1])\n",
    "write_lst(validation_set, '/projects/data/wikiart/', '/projects/data/wikiart/test.lst')\n"
   ]
  },
  {
   "cell_type": "code",
   "execution_count": null,
   "metadata": {},
   "outputs": [],
   "source": []
  }
 ],
 "metadata": {
  "kernelspec": {
   "display_name": "Python 3",
   "language": "python",
   "name": "python3"
  },
  "language_info": {
   "codemirror_mode": {
    "name": "ipython",
    "version": 3
   },
   "file_extension": ".py",
   "mimetype": "text/x-python",
   "name": "python",
   "nbconvert_exporter": "python",
   "pygments_lexer": "ipython3",
   "version": "3.6.6"
  }
 },
 "nbformat": 4,
 "nbformat_minor": 2
}
